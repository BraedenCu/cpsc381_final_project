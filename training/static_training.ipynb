{
 "cells": [
  {
   "cell_type": "code",
   "execution_count": null,
   "id": "94a78d33",
   "metadata": {},
   "outputs": [],
   "source": [
    "# dataset link, download from here and extract: http://vision.stanford.edu/Datasets/Stanford40.zip\n",
    "# I need you to develop a classifier that can classify the images in the Stanford 40 dataset and identify when the person in the image is waving.\n",
    "# still, train it to recognize all 40 classes. Create the code from scratch using pytorch. GO! This should all be implemented so that it runs from scratch with no errors in google colab."
   ]
  }
 ],
 "metadata": {
  "language_info": {
   "name": "python"
  }
 },
 "nbformat": 4,
 "nbformat_minor": 5
}
